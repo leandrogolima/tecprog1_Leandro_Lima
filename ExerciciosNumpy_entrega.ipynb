{
 "cells": [
  {
   "cell_type": "markdown",
   "metadata": {
    "colab_type": "text",
    "id": "view-in-github"
   },
   "source": [
    "<a href=\"https://colab.research.google.com/github/robertosgpontes/tec_prog_1/blob/main/ExerciciosNumpy.ipynb\" target=\"_parent\"><img src=\"https://colab.research.google.com/assets/colab-badge.svg\" alt=\"Open In Colab\"/></a>"
   ]
  },
  {
   "cell_type": "markdown",
   "metadata": {
    "id": "dDhJSUbSE6hI"
   },
   "source": [
    "# Lista de Exercícios de Numpy\n",
    "\n",
    "Deverá ser entrege até **11/02/2023** por meio do github que foi informado por vocês no [formulário](https://forms.office.com/r/YV12vEXGYF) respondido na aula de 01/02.\n",
    "\n",
    "A entrega pela github é parte da avaliação."
   ]
  },
  {
   "cell_type": "markdown",
   "metadata": {
    "id": "eX5x6-bjE6hN"
   },
   "source": [
    "## Questão 1\n",
    "\n",
    "Crie um array 100 com valores aleatórios e ache os valores máximo e mínimo"
   ]
  },
  {
   "cell_type": "code",
   "execution_count": 36,
   "metadata": {
    "id": "kYKS_ae1E6hP"
   },
   "outputs": [
    {
     "data": {
      "text/plain": [
       "array([ 0,  1,  2,  3,  4,  5,  6,  7,  8,  9, 10, 11, 12, 13, 14, 15, 16,\n",
       "       17, 18, 19, 20, 21, 22, 23, 24, 25, 26, 27, 28, 29, 30, 31, 32, 33,\n",
       "       34, 35, 36, 37, 38, 39, 40, 41, 42, 43, 44, 45, 46, 47, 48, 49, 50,\n",
       "       51, 52, 53, 54, 55, 56, 57, 58, 59, 60, 61, 62, 63, 64, 65, 66, 67,\n",
       "       68, 69, 70, 71, 72, 73, 74, 75, 76, 77, 78, 79, 80, 81, 82, 83, 84,\n",
       "       85, 86, 87, 88, 89, 90, 91, 92, 93, 94, 95, 96, 97, 98, 99])"
      ]
     },
     "execution_count": 36,
     "metadata": {},
     "output_type": "execute_result"
    }
   ],
   "source": [
    "import numpy as np\n",
    "matriz_100 = np.arange(100)\n",
    "matriz_100"
   ]
  },
  {
   "cell_type": "markdown",
   "metadata": {
    "id": "qT9pSHp4E6hQ"
   },
   "source": [
    "## Questão 2\n",
    "Em Geometria Analítica, um **vetor** é uma quantidade que pode ser definida por um énuplo (uma sequência ordenada de *n* elementos) em que cada elemento representa a intensidade do vetor na direção especificada pela i-ésima componente desta sequência. \n",
    "\n",
    "Quando pensamos em duas dimensões, por exemplo, o vetor $R = (b,a)$ define, geometricamente, a entidade representada na figura abaixo, com componentes nos eixos x e y usuais.\n",
    "\n",
    "<img src = \"https://static.todamateria.com.br/upload/im/ag/image-721.jpg?auto_optimize=low\" />\n",
    "\n",
    "O **módulo** deste vetor, também chamado de intensidade, está geometricamente relacionado ao seu comprimento, e pode ser calculado diretamente pelas suas componentes, por meio de uma operação conhecida como **produto escalar** do vetor com ele mesmo. O módulo quadrático é expresso, desta forma, por:\n",
    "\n",
    "$|A|^2 = \\vec{A} \\cdot \\vec{A}$\n",
    "\n",
    "Por outro lado, o produto escalar entre dois vetores $A = (a_{x}, a_{y})$ e $B = (b_{x}, b_{y})$ é dado por:\n",
    "\n",
    "$\\vec{A} \\cdot \\vec{B} = a_{x} \\times b_{x} + a_{y} \\times b_{y}$ (e esta definição vale para qualquer que seja a dimensão do vetor).\n",
    "\n",
    "O módulo quadrático de um vetor é, portanto:\n",
    "\n",
    "$|A|² = a_{x}^2 + b_{x}^2$."
   ]
  },
  {
   "cell_type": "markdown",
   "metadata": {
    "id": "-ZU6W86sE6hT"
   },
   "source": [
    "Dado o exposto acima, escreva uma função que retorne o módulo de um vetor n-dimensional qualquer."
   ]
  },
  {
   "cell_type": "code",
   "execution_count": 22,
   "metadata": {
    "id": "PdKKKvShE6hT"
   },
   "outputs": [
    {
     "name": "stdout",
     "output_type": "stream",
     "text": [
      "10.0\n"
     ]
    }
   ],
   "source": [
    "vet = np.array([6,8])\n",
    "\n",
    "\n",
    "def vetor(vetor):\n",
    "    squads = [(i**2) for i in vetor]\n",
    "    squads = sum(squads) ** 0.5\n",
    "    return squads\n",
    "\n",
    "print(vetor(vet))"
   ]
  },
  {
   "cell_type": "markdown",
   "metadata": {
    "id": "CRZdfzLgE6hU"
   },
   "source": [
    "## Questão 3\n",
    "\n",
    "Em uma **análise de regressão**, usualmente estamos interessados em descrever relações entre variáveis de um dado conjunto de dados por meio de uma **função** que descreva, o tanto quanto possível, estas relações.\n",
    "\n",
    "Por exemplo, no gráfico abaixo, os pontos vermelhos relacionam as medidas das duas variáveis sendo avaliadas (nos eixos x e y); e a linha azul aproxima a relação entre elas por uma função linear."
   ]
  },
  {
   "cell_type": "markdown",
   "metadata": {
    "id": "180Vp7AZE6hV"
   },
   "source": [
    "![Normdist_regression.png](https://miro.medium.com/v2/resize:fit:786/format:webp/1*LEmBCYAttxS6uI6rEyPLMQ.png)"
   ]
  },
  {
   "cell_type": "markdown",
   "metadata": {
    "id": "oQ1RFXOAE6hV"
   },
   "source": [
    "É possível ver que nem todos os pontos obedecem exatamente à relação ditada pela reta (isto é, há pontos que não estão exatamente \"sobre a reta\"; mas, sim, ligeraimente acima, ou abaixo, dela). Isto, contudo, é esperado em um modelo de regressão, por inúmeras fontes de incerteza associadas às medições."
   ]
  },
  {
   "cell_type": "markdown",
   "metadata": {
    "id": "XGWoc_O2E6hW"
   },
   "source": [
    "Uma das métricas que utilizamos para avaliar a qualidade de uma regressão é o **erro quadrático médio (EQM)**, que mensura a diferença total entre cada predição da regressão ($y_{prediction}$; que no nosso caso seriam os valores de y para a reta azul) com o valor real de cada i-ésima medida ($y_{i}$; que no nosso caso seriam as coordenadas y para cada ponto vermelho do gráfico). O EQM pode ser definido como:"
   ]
  },
  {
   "cell_type": "markdown",
   "metadata": {
    "id": "CjgOdTD6E6hX"
   },
   "source": [
    "$EQM = \\frac{1}{n}\\sum_{i=1}^{n}(y_{prediction} - y_{i})^2$."
   ]
  },
  {
   "cell_type": "markdown",
   "metadata": {
    "id": "qeXCrbmbE6hY"
   },
   "source": [
    "Isto posto, escreva uma função que calcule o EQM recebendo, como entrada, os vetores $y_{prediction}$ e $y_{i}$. Por exemplo, digamos que sua função se chame *calculate_eqm*, ela deve operar da seguinte forma:"
   ]
  },
  {
   "cell_type": "markdown",
   "metadata": {},
   "source": [
    "```python\n",
    "\n",
    "# dados dois arrays quaisquer de mesmo tamanho, a função deve retornar o EQM\n",
    "y_prediction = np.array([1,2,3])\n",
    "y_i = np.array([0,0,3])\n",
    "calculate_eqm(y_prediction,y_i)\n",
    "\n",
    ">>> 1.6666666666666665\n",
    "\n",
    "```"
   ]
  },
  {
   "cell_type": "code",
   "execution_count": 1,
   "metadata": {
    "id": "bwiTGuuoE6hb"
   },
   "outputs": [],
   "source": [
    "# Solução"
   ]
  },
  {
   "cell_type": "markdown",
   "metadata": {
    "id": "Wh0_a8PjE6hc"
   },
   "source": [
    "## Questão 4\n",
    "\n",
    "Crie um array 2D (bidimensional) com 1 na borda e 0 dentro"
   ]
  },
  {
   "cell_type": "code",
   "execution_count": 42,
   "metadata": {},
   "outputs": [
    {
     "data": {
      "text/plain": [
       "array([[1, 1, 1],\n",
       "       [1, 0, 1],\n",
       "       [1, 1, 1]])"
      ]
     },
     "execution_count": 42,
     "metadata": {},
     "output_type": "execute_result"
    }
   ],
   "source": [
    "array_2d = np.ones([3,3],dtype=int)\n",
    "array_2d[1,1]=0\n",
    "array_2d"
   ]
  },
  {
   "cell_type": "markdown",
   "metadata": {
    "id": "U1CntgkZE6hc"
   },
   "source": [
    "## Questão 5\n",
    "\n",
    "Como adicionar uma borda de 0's ao redor de um array 2D (bidimensional) existente"
   ]
  },
  {
   "cell_type": "code",
   "execution_count": null,
   "metadata": {},
   "outputs": [],
   "source": []
  },
  {
   "cell_type": "markdown",
   "metadata": {
    "id": "qHh149eAE6hd"
   },
   "source": [
    "## Questão 6\n",
    "\n",
    " A eletroencefalografia (EEG) é uma técnica que mensura potenciais elétricos cerebrais em diversas regiões do escalpo do paciente. Suponha que você recebeu um conjunto de dados na forma de uma matriz de 64 x 512 elementos, em que cada linha contém o sinal gravado em um dos **eletrodos** espalhados pelo escalpo em um exame de EEG, e cada coluna contém um valor de potencial elétrico, em microvolts. "
   ]
  },
  {
   "cell_type": "markdown",
   "metadata": {
    "id": "BRDY8u09E6hd"
   },
   "source": [
    "Como o sinal de EEG é muito suscetível a ruídos externos (interferências na qualidade do sinal), uma operação comum para atenuar a interferência no sinal consiste em tirar a média do potencial elétrico de todos os eletrodos, e subtrair este valor de cada um deles. Isto atenua fontes de ruído ao sinal comuns a todos os eletrodos. Em termos matemáticos, o sinal processado por esta operação, $X_{e,i}$ para cada eletrodo (e) e amostra (i), é dado por:"
   ]
  },
  {
   "cell_type": "markdown",
   "metadata": {
    "id": "NHLeT5deE6he"
   },
   "source": [
    "$X_{e,i} = \\hat{X_{e,i}} - \\frac{1}{N}\\sum_{e=1}^{N}\\hat{X_{e,i}}$,\n",
    "\n",
    "em que $\\hat{X_{e,i}}$ representa o sinal original (ou seja, é a matriz de entrada de 64 x 512 elementos), e $N$ indica o total de eletrodos."
   ]
  },
  {
   "cell_type": "markdown",
   "metadata": {
    "id": "ToiE-omdE6he"
   },
   "source": [
    "Com o exposto acima, escreva uma função que retorne uma matriz com os sinais de EEG processados conforme a operação mencionada. Sua função deve operar conforme o exemplo abaixo."
   ]
  },
  {
   "cell_type": "markdown",
   "metadata": {},
   "source": [
    "```python\n",
    "\n",
    "# vamos supor uma matriz de entrada gerada por dados aleatórios\n",
    "X = np.random.randn(64,512)\n",
    "X.shape # apenas para verificar as dimensões\n",
    ">>> (64, 512)\n",
    "\n",
    "# a função deve executar a operação equacionada anteriormente, retornando uma nova matriz\n",
    "X_processado = process_EEG_signal(X)\n",
    "X_processado.shape\n",
    ">>> (64, 512)\n",
    "\n",
    "# Somando as diferenças entre cada elemento das duas matrizes, apenas para ilustrar que elas não são iguais\n",
    "(X_processado - X).sum()\n",
    ">>> -53.08727366483029\n",
    "\n",
    "# Visualizando as matrizes, para verificar uma vez mais que, de fato, os elementos são diferentes\n",
    "X\n",
    ">>> array([[ 0.29305925,  0.89663038, -0.61032202, ..., -0.88086364,\n",
    "        -0.8818789 ,  0.51260497],\n",
    "       [-0.01274415,  1.05439522,  0.47958092, ..., -2.15387924,\n",
    "         0.70721168,  0.97029889],\n",
    "       [ 1.09478371, -0.16120847,  1.58400361, ...,  0.20981813,\n",
    "         2.17373837,  0.94032162],\n",
    "       ...,\n",
    "       [-0.45294842, -2.28939505,  1.10111998, ...,  1.63581703,\n",
    "        -0.39394924, -1.13400723],\n",
    "       [-0.22669886,  0.25413429, -1.17870637, ..., -0.09509442,\n",
    "         0.90733806,  0.37999411],\n",
    "       [ 0.15476933, -0.03654717, -1.09982762, ...,  0.67600047,\n",
    "        -0.84533328, -0.56433144]])\n",
    "\n",
    "# Matriz após o processamento descrito no enunciado\n",
    "X_processado\n",
    "\n",
    ">>> array([[ 0.36713022,  0.85772513, -0.54902169, ..., -0.85626087,\n",
    "        -0.97611435,  0.51718998],\n",
    "       [ 0.06132682,  1.01548997,  0.54088126, ..., -2.12927647,\n",
    "         0.61297623,  0.97488389],\n",
    "       [ 1.16885469, -0.20011372,  1.64530394, ...,  0.23442091,\n",
    "         2.07950292,  0.94490663],\n",
    "       ...,\n",
    "       [-0.37887744, -2.3283003 ,  1.16242031, ...,  1.6604198 ,\n",
    "        -0.4881847 , -1.12942223],\n",
    "       [-0.15262788,  0.21522904, -1.11740604, ..., -0.07049164,\n",
    "         0.81310261,  0.38457911],\n",
    "       [ 0.22884031, -0.07545242, -1.03852729, ...,  0.70060324,\n",
    "        -0.93956874, -0.55974643]])\n",
    "\n",
    "```"
   ]
  },
  {
   "cell_type": "code",
   "execution_count": 2,
   "metadata": {
    "id": "OlxjvCnQE6hj"
   },
   "outputs": [],
   "source": [
    "# Solução"
   ]
  },
  {
   "cell_type": "markdown",
   "metadata": {
    "id": "7Gy6nTwQE6hj"
   },
   "source": [
    "## Questão 7\n",
    "\n",
    "Em estatística, um **outlier** é um valor que destoa consideravelmente da distribuição à qual está associado. Um dos critérios para idenficar outliers consiste em encontrar a **distância interquantil** (IQR), ou seja, a diferença entre o terceiro (Q3) e o primeiro quartis (Q1) da distribuição, e tomar como outliers todos os pontos abaixo do Limite Inferior (LI = Q1 - 1.5*IQR  ), ou acima do Limite Superior (LS = Q3 + 1.5*IQR)."
   ]
  },
  {
   "cell_type": "markdown",
   "metadata": {},
   "source": [
    "![image.png](https://s3-sa-east-1.amazonaws.com/lcpi/0d8a7b04-b982-4e6b-9fc7-fbb062247d8d.png)\n"
   ]
  },
  {
   "cell_type": "markdown",
   "metadata": {
    "id": "CP-NkMHTE6hk"
   },
   "source": [
    "<img src = \"https://blog.curso-r.com/images/posts/banner/outlier.webp\" />"
   ]
  },
  {
   "cell_type": "markdown",
   "metadata": {
    "id": "BLDJN5JPE6hk"
   },
   "source": [
    "Escreva uma função que, dada uma matriz de dados de entrada de dimensões $N_{observações} \\times N_{features}$ retorne três requisitos: \n",
    "- uma matriz booleana indicando a existência de outliers nos dados de entrada;\n",
    "- a quantidade de outliers\n",
    "- quem são os outliers (os valores)."
   ]
  },
  {
   "cell_type": "markdown",
   "metadata": {
    "id": "wwVcP2uZE6hl"
   },
   "source": [
    "**Algumas definições:**\n",
    "- um *quantil* divide a distribuição, após ordenados os pontos, segundo algum ponto de corte;\n",
    "- o **primeiro quartil** é o ponto para o qual 25 % dos valores da distribuição estão abaixo dele;\n",
    "- o **terceiro quartil** é o ponto para o qual 75 % dos valores da distribuição estão abaixo dele.\n",
    "\n",
    "Pode ser útil consultar a função **numpy.quantile**."
   ]
  },
  {
   "cell_type": "markdown",
   "metadata": {
    "id": "C9nCKXhjE6hm"
   },
   "source": [
    "Exemplo de operação da função:"
   ]
  },
  {
   "cell_type": "markdown",
   "metadata": {},
   "source": [
    "```python\n",
    "# Geremos um conjunto de dados qualquer\n",
    "X = np.random.randn(300,15)\n",
    "X\n",
    "\n",
    ">>> array([[-2.02108952,  0.57945921, -2.23074965, ..., -0.60349514,\n",
    "         0.92180452, -0.15625722],\n",
    "       [ 0.24904397,  0.03493447,  0.3515052 , ..., -0.46950081,\n",
    "         0.20361331,  0.02715956],\n",
    "       [ 0.55902525, -0.48435434,  0.90413414, ..., -0.54425743,\n",
    "        -0.80769134, -0.07912549],\n",
    "       ...,\n",
    "       [-1.04069388, -0.24245725, -2.00308877, ...,  0.4084777 ,\n",
    "        -1.81516131,  0.39063118],\n",
    "       [-1.39275097,  0.3989636 ,  0.2926223 , ...,  1.2620666 ,\n",
    "         0.72262949,  1.50737559],\n",
    "       [ 0.15922011, -0.79810788, -1.60939896, ..., -0.08214499,\n",
    "        -0.13167475,  0.15990558]])\n",
    "\n",
    "\n",
    "# identificamos os requisitos com nossa com nossa função \"locate_outliers\"\n",
    "is_outlier, outliers_count, outliers = locate_outliers(X)\n",
    "\n",
    "is_outlier\n",
    ">>> array([[False, False, False, ..., False, False, False],\n",
    "       [False, False, False, ..., False, False, False],\n",
    "       [False, False, False, ..., False, False, False],\n",
    "       ...,\n",
    "       [False, False, False, ..., False, False, False],\n",
    "       [False, False, False, ..., False, False, False],\n",
    "       [False, False, False, ..., False, False, False]])\n",
    "\n",
    "outliers_count\n",
    ">>> 44\n",
    "\n",
    "outliers\n",
    ">>> array([-2.67240384,  3.00270904,  3.62317101,  3.18867865,  2.55581522,\n",
    "       -2.82091429,  2.8757892 ,  2.70666036,  3.19514999, -3.40550318,\n",
    "       -3.39825827,  2.6727295 ,  2.54498296, -2.69447104,  3.19521603,\n",
    "        2.66372172, -2.77444948,  2.77421152,  2.69992869, -2.84831109,\n",
    "       -2.83695779, -2.45908227,  3.07802106,  2.89314015, -2.68574682,\n",
    "       -2.85019494,  2.43399574,  2.44291266, -2.92595937, -2.95911074,\n",
    "       -3.03966003,  2.77543068, -2.67368414, -2.79965402, -3.0501958 ,\n",
    "       -2.5437387 ,  3.08550649, -3.17666255, -3.05795476, -3.09826467,\n",
    "        3.1399469 ,  3.18141942,  2.90564257, -2.89505054])\n",
    "\n",
    " ``` "
   ]
  },
  {
   "cell_type": "code",
   "execution_count": 3,
   "metadata": {
    "id": "AdTkst5UE6hq"
   },
   "outputs": [],
   "source": [
    "# Solução"
   ]
  },
  {
   "cell_type": "markdown",
   "metadata": {
    "id": "upNDn96PE6hq"
   },
   "source": [
    "## Questão 8\n",
    "\n",
    "Crie um vetor com valores que vão de 1 até 21 de dois em dois, a partir da função arange"
   ]
  },
  {
   "cell_type": "code",
   "execution_count": 26,
   "metadata": {
    "id": "w4d14JRZE6hr"
   },
   "outputs": [
    {
     "data": {
      "text/plain": [
       "array([ 1,  3,  5,  7,  9, 11, 13, 15, 17, 19, 21])"
      ]
     },
     "execution_count": 26,
     "metadata": {},
     "output_type": "execute_result"
    }
   ],
   "source": [
    "valores = np.arange(1,22,2)\n",
    "valores"
   ]
  },
  {
   "cell_type": "markdown",
   "metadata": {
    "id": "SchEY1O7E6hr"
   },
   "source": [
    "## Questão 9\n",
    "\n",
    "Crie um array de 10 com valores aleatórios"
   ]
  },
  {
   "cell_type": "code",
   "execution_count": 35,
   "metadata": {
    "id": "MYpySePjE6hs"
   },
   "outputs": [
    {
     "data": {
      "text/plain": [
       "array([95, 33, 20, 77, 34, 89, 16, 14, 68, 18])"
      ]
     },
     "execution_count": 35,
     "metadata": {},
     "output_type": "execute_result"
    }
   ],
   "source": [
    "aleatorio = np.random.randint(0,100,10)\n",
    "aleatorio"
   ]
  },
  {
   "cell_type": "markdown",
   "metadata": {
    "id": "EFfvM6LIAlfJ"
   },
   "source": [
    "## Questão 10\n",
    "\n",
    "Em estatística, a normalização de uma distribuição de dados pode ser feita subtraindo o valor médio da distribuição de cada valor do conjunto de dados, dividindo o resultado pelo desvio-padrão da distribuição. Escreva uma função que normalize os dados recebidos por um array numpy qualquer, conforme descrito anteriormente."
   ]
  },
  {
   "cell_type": "code",
   "execution_count": 45,
   "metadata": {
    "id": "yfho2bziAlfJ"
   },
   "outputs": [
    {
     "name": "stdout",
     "output_type": "stream",
     "text": [
      "[-1.5811388300841895, -1.2649110640673518, -0.9486832980505138, -0.6324555320336759, -0.31622776601683794, 0.0, 0.31622776601683794, 0.6324555320336759, 0.9486832980505138, 1.2649110640673518, 1.5811388300841895]\n"
     ]
    }
   ],
   "source": [
    "valores\n",
    "def normatizar(matriz):\n",
    "    norm = [(i-np.mean(matriz))/np.std(matriz) for i in matriz]\n",
    "    \n",
    "    return norm\n",
    "\n",
    "print(normatizar(valores))    "
   ]
  },
  {
   "cell_type": "markdown",
   "metadata": {
    "id": "p60_N7ZwAlfK"
   },
   "source": [
    "## Questão 11\n",
    "\n",
    "Escreva uma função em numpy que receba um array contendo notas de uma turma de 100 estudantes. Considere que a nota de aprovação da turma é 5.0. A função deve retornar, em um array numpy, nesta ordem:\n",
    "- a média e o desvio-padrão das notas da turma;\n",
    "- o número de notas maiores que 7.0;\n",
    "- o número de reprovações da turma;\n",
    "- a menor nota da turma;\n",
    "- a maior nota da turma."
   ]
  },
  {
   "cell_type": "code",
   "execution_count": 49,
   "metadata": {
    "id": "Q3wkBCFtAlfK"
   },
   "outputs": [
    {
     "data": {
      "text/plain": [
       "array([ 1,  3,  7,  4, 10,  4,  7,  6,  2,  7,  1,  4,  3,  5,  3,  5,  8,\n",
       "        6,  3,  9,  5,  6,  3,  4,  7,  4,  4,  8,  8,  4,  7,  8, 10, 10,\n",
       "       10,  5,  1,  2,  9,  9,  2,  3,  3,  7,  8,  7,  2,  1,  8,  6, 10,\n",
       "        6,  9,  8,  5,  1, 10,  8,  2,  7,  5,  5,  8,  5,  5,  5,  3,  9,\n",
       "        3,  2,  5,  2,  8,  2,  3,  1,  9,  2,  9,  4,  6,  1,  5,  5,  6,\n",
       "       10,  6,  8,  5,  3,  3,  4,  1,  9,  4,  7,  5, 10,  9,  7])"
      ]
     },
     "execution_count": 49,
     "metadata": {},
     "output_type": "execute_result"
    }
   ],
   "source": [
    "notas = np.random.randint(1,11,100)\n",
    "notas\n"
   ]
  },
  {
   "cell_type": "code",
   "execution_count": 56,
   "metadata": {},
   "outputs": [
    {
     "name": "stdout",
     "output_type": "stream",
     "text": [
      "[ 5.44        2.71779322 38.         39.          1.         10.        ]\n"
     ]
    }
   ],
   "source": [
    "def notas_alunos(notas):\n",
    "    media = np.mean(notas)\n",
    "    desvio = np.std(notas)\n",
    "    maior_7 = len([i for i in notas if i >= 7])\n",
    "    reprovados = len([i for i in notas if i < 5])\n",
    "    menor = np.min(notas)\n",
    "    maior = np.max(notas)\n",
    "    return np.array([media,desvio,maior_7,reprovados,menor,maior])\n",
    "print(notas_alunos(notas))\n"
   ]
  },
  {
   "cell_type": "code",
   "execution_count": null,
   "metadata": {},
   "outputs": [],
   "source": []
  }
 ],
 "metadata": {
  "colab": {
   "include_colab_link": true,
   "provenance": []
  },
  "kernelspec": {
   "display_name": "Python 3 (ipykernel)",
   "language": "python",
   "name": "python3"
  },
  "language_info": {
   "codemirror_mode": {
    "name": "ipython",
    "version": 3
   },
   "file_extension": ".py",
   "mimetype": "text/x-python",
   "name": "python",
   "nbconvert_exporter": "python",
   "pygments_lexer": "ipython3",
   "version": "3.9.12"
  },
  "vscode": {
   "interpreter": {
    "hash": "38d4061a99e7c6638a090ce08c14a66640e6088dc5ef74a7f33c8fdd952ca81d"
   }
  }
 },
 "nbformat": 4,
 "nbformat_minor": 1
}
